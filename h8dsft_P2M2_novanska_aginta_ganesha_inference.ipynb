{
 "cells": [
  {
   "attachments": {},
   "cell_type": "markdown",
   "metadata": {},
   "source": [
    "# Import Library"
   ]
  },
  {
   "cell_type": "code",
   "execution_count": 1,
   "metadata": {},
   "outputs": [],
   "source": [
    "# Library Load Model\n",
    "import pandas as pd\n",
    "import numpy as np\n",
    "from tensorflow.keras.models import load_model\n",
    "\n",
    "# Library Pre-Processing\n",
    "from nltk.stem import WordNetLemmatizer\n",
    "import nltk\n",
    "import re\n",
    "from nltk.corpus import stopwords\n",
    "from nltk.tokenize import word_tokenize"
   ]
  },
  {
   "cell_type": "code",
   "execution_count": 2,
   "metadata": {},
   "outputs": [],
   "source": [
    "best_model = load_model('best_model')"
   ]
  },
  {
   "cell_type": "code",
   "execution_count": 3,
   "metadata": {},
   "outputs": [],
   "source": [
    "# Pembuatan stopwords english\n",
    "new_stopwords = ['t','rt','co']\n",
    "stopwords_eng = stopwords.words(\"english\")\n",
    "stopwords_eng = stopwords_eng + new_stopwords\n",
    "stopwords_eng = list(set(stopwords_eng))"
   ]
  },
  {
   "cell_type": "code",
   "execution_count": 16,
   "metadata": {},
   "outputs": [],
   "source": [
    "#pembuatan pemrosesan tweets\n",
    "lemmatizer = WordNetLemmatizer()\n",
    "def proses_tweets(tweets):\n",
    "    tweets = tweets.lower() # Mengubah Teks ke Lowercase\n",
    "    tweets = re.sub(\"@\\S+|https?:\\S+|http?:\\S|[^A-Za-z0-9]+\", ' ', tweets) # Menghilangkan http\n",
    "    tweets = re.sub(\"@[A-Za-z0-9_]+\", \" \", tweets)  # Menghilangkan mention\n",
    "    tweets = re.sub(\"#[A-Za-z0-9_]+\", \" \", tweets) # Menghilangkan hashtag\n",
    "    tweets = re.sub(r\"\\\\n\", \" \",tweets) # Menghilangkan \\n (enter)\n",
    "    tweets = tweets.strip() # Menghilangkan whitespace\n",
    "    tweets = re.sub(\"[^A-Za-z\\s']\", \" \", tweets) # Menghilangkan emoji atau atau simbol matematika\n",
    "    tweets = re.sub(\"\\s\\s+\" , \" \", tweets) # Menghilangkan double spasi\n",
    "    tokens = word_tokenize(tweets) # Melakukan tokenize\n",
    "    tweets = ' '.join([word for word in tokens if word not in stopwords_eng]) # Menghilangkan stopwords\n",
    "    tweets = lemmatizer.lemmatize(tweets) # Melakukan lemmatize\n",
    "    return tweets"
   ]
  },
  {
   "cell_type": "code",
   "execution_count": 17,
   "metadata": {},
   "outputs": [
    {
     "data": {
      "text/html": [
       "<div>\n",
       "<style scoped>\n",
       "    .dataframe tbody tr th:only-of-type {\n",
       "        vertical-align: middle;\n",
       "    }\n",
       "\n",
       "    .dataframe tbody tr th {\n",
       "        vertical-align: top;\n",
       "    }\n",
       "\n",
       "    .dataframe thead th {\n",
       "        text-align: right;\n",
       "    }\n",
       "</style>\n",
       "<table border=\"1\" class=\"dataframe\">\n",
       "  <thead>\n",
       "    <tr style=\"text-align: right;\">\n",
       "      <th></th>\n",
       "      <th>text</th>\n",
       "    </tr>\n",
       "  </thead>\n",
       "  <tbody>\n",
       "    <tr>\n",
       "      <th>0</th>\n",
       "      <td>I need to eat now, because im very hungry</td>\n",
       "    </tr>\n",
       "  </tbody>\n",
       "</table>\n",
       "</div>"
      ],
      "text/plain": [
       "                                       text \n",
       "0  I need to eat now, because im very hungry"
      ]
     },
     "execution_count": 17,
     "metadata": {},
     "output_type": "execute_result"
    }
   ],
   "source": [
    "#Data inferencing\n",
    "\n",
    "df_inf = {'text ' : 'I need to eat now, because im very hungry'}\n",
    "df_inf = pd.DataFrame([df_inf])\n",
    "df_inf"
   ]
  },
  {
   "cell_type": "code",
   "execution_count": 18,
   "metadata": {},
   "outputs": [],
   "source": [
    "df_inf['tweet_preprocessing'] = df_inf['text '].apply(lambda x : proses_tweets(x))"
   ]
  },
  {
   "cell_type": "code",
   "execution_count": 19,
   "metadata": {},
   "outputs": [
    {
     "data": {
      "text/html": [
       "<div>\n",
       "<style scoped>\n",
       "    .dataframe tbody tr th:only-of-type {\n",
       "        vertical-align: middle;\n",
       "    }\n",
       "\n",
       "    .dataframe tbody tr th {\n",
       "        vertical-align: top;\n",
       "    }\n",
       "\n",
       "    .dataframe thead th {\n",
       "        text-align: right;\n",
       "    }\n",
       "</style>\n",
       "<table border=\"1\" class=\"dataframe\">\n",
       "  <thead>\n",
       "    <tr style=\"text-align: right;\">\n",
       "      <th></th>\n",
       "      <th>text</th>\n",
       "      <th>tweet_preprocessing</th>\n",
       "    </tr>\n",
       "  </thead>\n",
       "  <tbody>\n",
       "    <tr>\n",
       "      <th>0</th>\n",
       "      <td>I need to eat now, because im very hungry</td>\n",
       "      <td>need eat im hungry</td>\n",
       "    </tr>\n",
       "  </tbody>\n",
       "</table>\n",
       "</div>"
      ],
      "text/plain": [
       "                                       text  tweet_preprocessing\n",
       "0  I need to eat now, because im very hungry  need eat im hungry"
      ]
     },
     "execution_count": 19,
     "metadata": {},
     "output_type": "execute_result"
    }
   ],
   "source": [
    "df_inf"
   ]
  },
  {
   "cell_type": "code",
   "execution_count": 21,
   "metadata": {},
   "outputs": [
    {
     "name": "stdout",
     "output_type": "stream",
     "text": [
      "1/1 [==============================] - 0s 45ms/step\n",
      "non-disaster\n"
     ]
    }
   ],
   "source": [
    "#predict model\n",
    "y_inf_pred = np.argmax(best_model.predict(df_inf['tweet_preprocessing']), axis=-1)\n",
    "\n",
    "if y_inf_pred[0] == 0:\n",
    "    hasil = 'non-disaster'\n",
    "else:\n",
    "    hasil = 'disaster'\n",
    "    \n",
    "print(hasil)"
   ]
  },
  {
   "attachments": {},
   "cell_type": "markdown",
   "metadata": {},
   "source": [
    "Insight :\n",
    "\n",
    "jenis tweet diatas merupakan non-disaster tweets."
   ]
  }
 ],
 "metadata": {
  "kernelspec": {
   "display_name": "Python 3",
   "language": "python",
   "name": "python3"
  },
  "language_info": {
   "codemirror_mode": {
    "name": "ipython",
    "version": 3
   },
   "file_extension": ".py",
   "mimetype": "text/x-python",
   "name": "python",
   "nbconvert_exporter": "python",
   "pygments_lexer": "ipython3",
   "version": "3.11.2"
  },
  "orig_nbformat": 4
 },
 "nbformat": 4,
 "nbformat_minor": 2
}
